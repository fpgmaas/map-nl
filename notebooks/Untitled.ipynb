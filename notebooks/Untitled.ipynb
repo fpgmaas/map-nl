{
 "cells": [
  {
   "cell_type": "code",
   "execution_count": 1,
   "id": "84a5f58d-68d9-4d6f-9a2f-08889f2e3861",
   "metadata": {},
   "outputs": [],
   "source": [
    "%load_ext autoreload\n",
    "%autoreload 2"
   ]
  },
  {
   "cell_type": "code",
   "execution_count": 8,
   "id": "8ef28dd8-daf7-425f-96b1-021395dbc79b",
   "metadata": {},
   "outputs": [],
   "source": [
    "from map_nl.geo_json_downloader import GeoJsonDownloader"
   ]
  },
  {
   "cell_type": "code",
   "execution_count": 6,
   "id": "94e2aee2-e7c7-456f-a633-9cffca4d583d",
   "metadata": {},
   "outputs": [],
   "source": [
    "GeoJsonDownloader().download()"
   ]
  },
  {
   "cell_type": "code",
   "execution_count": null,
   "id": "88259faf-4116-486e-92d0-b6edc0e952dc",
   "metadata": {},
   "outputs": [],
   "source": []
  }
 ],
 "metadata": {
  "kernelspec": {
   "display_name": "Python 3 (ipykernel)",
   "language": "python",
   "name": "python3"
  },
  "language_info": {
   "codemirror_mode": {
    "name": "ipython",
    "version": 3
   },
   "file_extension": ".py",
   "mimetype": "text/x-python",
   "name": "python",
   "nbconvert_exporter": "python",
   "pygments_lexer": "ipython3",
   "version": "3.10.6"
  }
 },
 "nbformat": 4,
 "nbformat_minor": 5
}
