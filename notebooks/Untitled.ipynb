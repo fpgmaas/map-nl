{
 "cells": [
  {
   "cell_type": "code",
   "execution_count": null,
   "id": "84a5f58d-68d9-4d6f-9a2f-08889f2e3861",
   "metadata": {},
   "outputs": [],
   "source": [
    "%load_ext autoreload\n",
    "%autoreload 2"
   ]
  },
  {
   "cell_type": "code",
   "execution_count": null,
   "id": "8ef28dd8-daf7-425f-96b1-021395dbc79b",
   "metadata": {},
   "outputs": [],
   "source": [
    "from map_nl.geo_json_downloader import GeoJsonDownloader"
   ]
  },
  {
   "cell_type": "code",
   "execution_count": null,
   "id": "94e2aee2-e7c7-456f-a633-9cffca4d583d",
   "metadata": {},
   "outputs": [],
   "source": [
    "GeoJsonDownloader().download()"
   ]
  },
  {
   "cell_type": "code",
   "execution_count": null,
   "id": "e4e415f3-e895-492c-9c38-f566d3c2a4f4",
   "metadata": {},
   "outputs": [],
   "source": [
    "from map_nl.map import MapNL"
   ]
  },
  {
   "cell_type": "code",
   "execution_count": null,
   "id": "c06f3c45-57c0-47de-81d3-585cf3f02cfc",
   "metadata": {},
   "outputs": [],
   "source": [
    "# Example usage\n",
    "map_path = \".map-nl/nl-pc4-map.geojson\"\n",
    "netherlands_map = MapNL(map_path)\n",
    "netherlands_map.create_map()\n",
    "\n",
    "# To display the map in a Jupyter Notebook\n",
    "netherlands_map.show_map()"
   ]
  },
  {
   "cell_type": "code",
   "execution_count": null,
   "id": "7f084730-4ac9-495b-9aa3-b5084a38571d",
   "metadata": {},
   "outputs": [],
   "source": []
  }
 ],
 "metadata": {
  "kernelspec": {
   "display_name": "Python 3 (ipykernel)",
   "language": "python",
   "name": "python3"
  },
  "language_info": {
   "codemirror_mode": {
    "name": "ipython",
    "version": 3
   },
   "file_extension": ".py",
   "mimetype": "text/x-python",
   "name": "python",
   "nbconvert_exporter": "python",
   "pygments_lexer": "ipython3",
   "version": "3.10.6"
  }
 },
 "nbformat": 4,
 "nbformat_minor": 5
}
